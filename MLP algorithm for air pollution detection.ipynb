{
  "cells": [
    {
      "cell_type": "markdown",
      "metadata": {
        "id": "JzWr3SO-gVbU"
      },
      "source": [
        "#Dataset"
      ]
    },
    {
      "cell_type": "code",
      "execution_count": null,
      "metadata": {
        "colab": {
          "base_uri": "https://localhost:8080/"
        },
        "id": "aDZ8VO0RVVsI",
        "outputId": "55128b13-6100-48c2-822d-01d6d74bbac5"
      },
      "outputs": [
        {
          "name": "stdout",
          "output_type": "stream",
          "text": [
            "Looking in indexes: https://pypi.org/simple, https://us-python.pkg.dev/colab-wheels/public/simple/\n",
            "Requirement already satisfied: kaggle in /usr/local/lib/python3.9/dist-packages (1.5.13)\n",
            "Requirement already satisfied: requests in /usr/local/lib/python3.9/dist-packages (from kaggle) (2.27.1)\n",
            "Requirement already satisfied: tqdm in /usr/local/lib/python3.9/dist-packages (from kaggle) (4.65.0)\n",
            "Requirement already satisfied: python-slugify in /usr/local/lib/python3.9/dist-packages (from kaggle) (8.0.1)\n",
            "Requirement already satisfied: certifi in /usr/local/lib/python3.9/dist-packages (from kaggle) (2022.12.7)\n",
            "Requirement already satisfied: urllib3 in /usr/local/lib/python3.9/dist-packages (from kaggle) (1.26.15)\n",
            "Requirement already satisfied: python-dateutil in /usr/local/lib/python3.9/dist-packages (from kaggle) (2.8.2)\n",
            "Requirement already satisfied: six>=1.10 in /usr/local/lib/python3.9/dist-packages (from kaggle) (1.16.0)\n",
            "Requirement already satisfied: text-unidecode>=1.3 in /usr/local/lib/python3.9/dist-packages (from python-slugify->kaggle) (1.3)\n",
            "Requirement already satisfied: charset-normalizer~=2.0.0 in /usr/local/lib/python3.9/dist-packages (from requests->kaggle) (2.0.12)\n",
            "Requirement already satisfied: idna<4,>=2.5 in /usr/local/lib/python3.9/dist-packages (from requests->kaggle) (3.4)\n"
          ]
        }
      ],
      "source": [
        "!pip install kaggle"
      ]
    },
    {
      "cell_type": "code",
      "execution_count": null,
      "metadata": {
        "id": "-GVayMv-YItc"
      },
      "outputs": [],
      "source": [
        "import os"
      ]
    },
    {
      "cell_type": "code",
      "execution_count": null,
      "metadata": {
        "colab": {
          "base_uri": "https://localhost:8080/"
        },
        "id": "5q8KYMXjYMd9",
        "outputId": "5033dbb7-458a-4971-e0c4-6ce9d3a42e40"
      },
      "outputs": [
        {
          "name": "stdout",
          "output_type": "stream",
          "text": [
            "Downloading global-air-pollution-dataset.zip to /content\n",
            "\r  0% 0.00/371k [00:00<?, ?B/s]\n",
            "\r100% 371k/371k [00:00<00:00, 71.5MB/s]\n"
          ]
        }
      ],
      "source": [
        "!kaggle datasets download -d hasibalmuzdadid/global-air-pollution-dataset"
      ]
    },
    {
      "cell_type": "code",
      "execution_count": null,
      "metadata": {
        "id": "XpzLuWDXYRdj"
      },
      "outputs": [],
      "source": [
        "import zipfile\n",
        "\n",
        "with zipfile.ZipFile('/content/global-air-pollution-dataset.zip', 'r') as zip_ref:\n",
        "    zip_ref.extractall('/content/global-air-pollution')"
      ]
    },
    {
      "cell_type": "code",
      "execution_count": null,
      "metadata": {
        "id": "xVhB-oiCYTzz"
      },
      "outputs": [],
      "source": [
        "import pandas as pd"
      ]
    },
    {
      "cell_type": "code",
      "execution_count": null,
      "metadata": {
        "id": "QkXRFBPxfrP-"
      },
      "outputs": [],
      "source": [
        "df = pd.read_csv('/content/global-air-pollution/global air pollution dataset.csv')"
      ]
    },
    {
      "cell_type": "code",
      "execution_count": null,
      "metadata": {
        "colab": {
          "base_uri": "https://localhost:8080/",
          "height": 519
        },
        "id": "sV_fod3zfxTw",
        "outputId": "51c1ff47-e4a4-4e35-a45b-eb40dcf52063"
      },
      "outputs": [
        {
          "data": {
            "text/html": [
              "\n",
              "  <div id=\"df-6120e9be-e4ee-4fbf-915a-10cf06c5a273\">\n",
              "    <div class=\"colab-df-container\">\n",
              "      <div>\n",
              "<style scoped>\n",
              "    .dataframe tbody tr th:only-of-type {\n",
              "        vertical-align: middle;\n",
              "    }\n",
              "\n",
              "    .dataframe tbody tr th {\n",
              "        vertical-align: top;\n",
              "    }\n",
              "\n",
              "    .dataframe thead th {\n",
              "        text-align: right;\n",
              "    }\n",
              "</style>\n",
              "<table border=\"1\" class=\"dataframe\">\n",
              "  <thead>\n",
              "    <tr style=\"text-align: right;\">\n",
              "      <th></th>\n",
              "      <th>Country</th>\n",
              "      <th>City</th>\n",
              "      <th>AQI Value</th>\n",
              "      <th>AQI Category</th>\n",
              "      <th>CO AQI Value</th>\n",
              "      <th>CO AQI Category</th>\n",
              "      <th>Ozone AQI Value</th>\n",
              "      <th>Ozone AQI Category</th>\n",
              "      <th>NO2 AQI Value</th>\n",
              "      <th>NO2 AQI Category</th>\n",
              "      <th>PM2.5 AQI Value</th>\n",
              "      <th>PM2.5 AQI Category</th>\n",
              "    </tr>\n",
              "  </thead>\n",
              "  <tbody>\n",
              "    <tr>\n",
              "      <th>0</th>\n",
              "      <td>Russian Federation</td>\n",
              "      <td>Praskoveya</td>\n",
              "      <td>51</td>\n",
              "      <td>Moderate</td>\n",
              "      <td>1</td>\n",
              "      <td>Good</td>\n",
              "      <td>36</td>\n",
              "      <td>Good</td>\n",
              "      <td>0</td>\n",
              "      <td>Good</td>\n",
              "      <td>51</td>\n",
              "      <td>Moderate</td>\n",
              "    </tr>\n",
              "    <tr>\n",
              "      <th>1</th>\n",
              "      <td>Brazil</td>\n",
              "      <td>Presidente Dutra</td>\n",
              "      <td>41</td>\n",
              "      <td>Good</td>\n",
              "      <td>1</td>\n",
              "      <td>Good</td>\n",
              "      <td>5</td>\n",
              "      <td>Good</td>\n",
              "      <td>1</td>\n",
              "      <td>Good</td>\n",
              "      <td>41</td>\n",
              "      <td>Good</td>\n",
              "    </tr>\n",
              "    <tr>\n",
              "      <th>2</th>\n",
              "      <td>Italy</td>\n",
              "      <td>Priolo Gargallo</td>\n",
              "      <td>66</td>\n",
              "      <td>Moderate</td>\n",
              "      <td>1</td>\n",
              "      <td>Good</td>\n",
              "      <td>39</td>\n",
              "      <td>Good</td>\n",
              "      <td>2</td>\n",
              "      <td>Good</td>\n",
              "      <td>66</td>\n",
              "      <td>Moderate</td>\n",
              "    </tr>\n",
              "    <tr>\n",
              "      <th>3</th>\n",
              "      <td>Poland</td>\n",
              "      <td>Przasnysz</td>\n",
              "      <td>34</td>\n",
              "      <td>Good</td>\n",
              "      <td>1</td>\n",
              "      <td>Good</td>\n",
              "      <td>34</td>\n",
              "      <td>Good</td>\n",
              "      <td>0</td>\n",
              "      <td>Good</td>\n",
              "      <td>20</td>\n",
              "      <td>Good</td>\n",
              "    </tr>\n",
              "    <tr>\n",
              "      <th>4</th>\n",
              "      <td>France</td>\n",
              "      <td>Punaauia</td>\n",
              "      <td>22</td>\n",
              "      <td>Good</td>\n",
              "      <td>0</td>\n",
              "      <td>Good</td>\n",
              "      <td>22</td>\n",
              "      <td>Good</td>\n",
              "      <td>0</td>\n",
              "      <td>Good</td>\n",
              "      <td>6</td>\n",
              "      <td>Good</td>\n",
              "    </tr>\n",
              "    <tr>\n",
              "      <th>...</th>\n",
              "      <td>...</td>\n",
              "      <td>...</td>\n",
              "      <td>...</td>\n",
              "      <td>...</td>\n",
              "      <td>...</td>\n",
              "      <td>...</td>\n",
              "      <td>...</td>\n",
              "      <td>...</td>\n",
              "      <td>...</td>\n",
              "      <td>...</td>\n",
              "      <td>...</td>\n",
              "      <td>...</td>\n",
              "    </tr>\n",
              "    <tr>\n",
              "      <th>23458</th>\n",
              "      <td>India</td>\n",
              "      <td>Gursahaiganj</td>\n",
              "      <td>184</td>\n",
              "      <td>Unhealthy</td>\n",
              "      <td>3</td>\n",
              "      <td>Good</td>\n",
              "      <td>154</td>\n",
              "      <td>Unhealthy</td>\n",
              "      <td>2</td>\n",
              "      <td>Good</td>\n",
              "      <td>184</td>\n",
              "      <td>Unhealthy</td>\n",
              "    </tr>\n",
              "    <tr>\n",
              "      <th>23459</th>\n",
              "      <td>France</td>\n",
              "      <td>Sceaux</td>\n",
              "      <td>50</td>\n",
              "      <td>Good</td>\n",
              "      <td>1</td>\n",
              "      <td>Good</td>\n",
              "      <td>20</td>\n",
              "      <td>Good</td>\n",
              "      <td>5</td>\n",
              "      <td>Good</td>\n",
              "      <td>50</td>\n",
              "      <td>Good</td>\n",
              "    </tr>\n",
              "    <tr>\n",
              "      <th>23460</th>\n",
              "      <td>India</td>\n",
              "      <td>Mormugao</td>\n",
              "      <td>50</td>\n",
              "      <td>Good</td>\n",
              "      <td>1</td>\n",
              "      <td>Good</td>\n",
              "      <td>22</td>\n",
              "      <td>Good</td>\n",
              "      <td>1</td>\n",
              "      <td>Good</td>\n",
              "      <td>50</td>\n",
              "      <td>Good</td>\n",
              "    </tr>\n",
              "    <tr>\n",
              "      <th>23461</th>\n",
              "      <td>United States of America</td>\n",
              "      <td>Westerville</td>\n",
              "      <td>71</td>\n",
              "      <td>Moderate</td>\n",
              "      <td>1</td>\n",
              "      <td>Good</td>\n",
              "      <td>44</td>\n",
              "      <td>Good</td>\n",
              "      <td>2</td>\n",
              "      <td>Good</td>\n",
              "      <td>71</td>\n",
              "      <td>Moderate</td>\n",
              "    </tr>\n",
              "    <tr>\n",
              "      <th>23462</th>\n",
              "      <td>Malaysia</td>\n",
              "      <td>Marang</td>\n",
              "      <td>70</td>\n",
              "      <td>Moderate</td>\n",
              "      <td>1</td>\n",
              "      <td>Good</td>\n",
              "      <td>38</td>\n",
              "      <td>Good</td>\n",
              "      <td>0</td>\n",
              "      <td>Good</td>\n",
              "      <td>70</td>\n",
              "      <td>Moderate</td>\n",
              "    </tr>\n",
              "  </tbody>\n",
              "</table>\n",
              "<p>23463 rows × 12 columns</p>\n",
              "</div>\n",
              "      <button class=\"colab-df-convert\" onclick=\"convertToInteractive('df-6120e9be-e4ee-4fbf-915a-10cf06c5a273')\"\n",
              "              title=\"Convert this dataframe to an interactive table.\"\n",
              "              style=\"display:none;\">\n",
              "        \n",
              "  <svg xmlns=\"http://www.w3.org/2000/svg\" height=\"24px\"viewBox=\"0 0 24 24\"\n",
              "       width=\"24px\">\n",
              "    <path d=\"M0 0h24v24H0V0z\" fill=\"none\"/>\n",
              "    <path d=\"M18.56 5.44l.94 2.06.94-2.06 2.06-.94-2.06-.94-.94-2.06-.94 2.06-2.06.94zm-11 1L8.5 8.5l.94-2.06 2.06-.94-2.06-.94L8.5 2.5l-.94 2.06-2.06.94zm10 10l.94 2.06.94-2.06 2.06-.94-2.06-.94-.94-2.06-.94 2.06-2.06.94z\"/><path d=\"M17.41 7.96l-1.37-1.37c-.4-.4-.92-.59-1.43-.59-.52 0-1.04.2-1.43.59L10.3 9.45l-7.72 7.72c-.78.78-.78 2.05 0 2.83L4 21.41c.39.39.9.59 1.41.59.51 0 1.02-.2 1.41-.59l7.78-7.78 2.81-2.81c.8-.78.8-2.07 0-2.86zM5.41 20L4 18.59l7.72-7.72 1.47 1.35L5.41 20z\"/>\n",
              "  </svg>\n",
              "      </button>\n",
              "      \n",
              "  <style>\n",
              "    .colab-df-container {\n",
              "      display:flex;\n",
              "      flex-wrap:wrap;\n",
              "      gap: 12px;\n",
              "    }\n",
              "\n",
              "    .colab-df-convert {\n",
              "      background-color: #E8F0FE;\n",
              "      border: none;\n",
              "      border-radius: 50%;\n",
              "      cursor: pointer;\n",
              "      display: none;\n",
              "      fill: #1967D2;\n",
              "      height: 32px;\n",
              "      padding: 0 0 0 0;\n",
              "      width: 32px;\n",
              "    }\n",
              "\n",
              "    .colab-df-convert:hover {\n",
              "      background-color: #E2EBFA;\n",
              "      box-shadow: 0px 1px 2px rgba(60, 64, 67, 0.3), 0px 1px 3px 1px rgba(60, 64, 67, 0.15);\n",
              "      fill: #174EA6;\n",
              "    }\n",
              "\n",
              "    [theme=dark] .colab-df-convert {\n",
              "      background-color: #3B4455;\n",
              "      fill: #D2E3FC;\n",
              "    }\n",
              "\n",
              "    [theme=dark] .colab-df-convert:hover {\n",
              "      background-color: #434B5C;\n",
              "      box-shadow: 0px 1px 3px 1px rgba(0, 0, 0, 0.15);\n",
              "      filter: drop-shadow(0px 1px 2px rgba(0, 0, 0, 0.3));\n",
              "      fill: #FFFFFF;\n",
              "    }\n",
              "  </style>\n",
              "\n",
              "      <script>\n",
              "        const buttonEl =\n",
              "          document.querySelector('#df-6120e9be-e4ee-4fbf-915a-10cf06c5a273 button.colab-df-convert');\n",
              "        buttonEl.style.display =\n",
              "          google.colab.kernel.accessAllowed ? 'block' : 'none';\n",
              "\n",
              "        async function convertToInteractive(key) {\n",
              "          const element = document.querySelector('#df-6120e9be-e4ee-4fbf-915a-10cf06c5a273');\n",
              "          const dataTable =\n",
              "            await google.colab.kernel.invokeFunction('convertToInteractive',\n",
              "                                                     [key], {});\n",
              "          if (!dataTable) return;\n",
              "\n",
              "          const docLinkHtml = 'Like what you see? Visit the ' +\n",
              "            '<a target=\"_blank\" href=https://colab.research.google.com/notebooks/data_table.ipynb>data table notebook</a>'\n",
              "            + ' to learn more about interactive tables.';\n",
              "          element.innerHTML = '';\n",
              "          dataTable['output_type'] = 'display_data';\n",
              "          await google.colab.output.renderOutput(dataTable, element);\n",
              "          const docLink = document.createElement('div');\n",
              "          docLink.innerHTML = docLinkHtml;\n",
              "          element.appendChild(docLink);\n",
              "        }\n",
              "      </script>\n",
              "    </div>\n",
              "  </div>\n",
              "  "
            ],
            "text/plain": [
              "                        Country              City  AQI Value AQI Category  \\\n",
              "0            Russian Federation        Praskoveya         51     Moderate   \n",
              "1                        Brazil  Presidente Dutra         41         Good   \n",
              "2                         Italy   Priolo Gargallo         66     Moderate   \n",
              "3                        Poland         Przasnysz         34         Good   \n",
              "4                        France          Punaauia         22         Good   \n",
              "...                         ...               ...        ...          ...   \n",
              "23458                     India      Gursahaiganj        184    Unhealthy   \n",
              "23459                    France            Sceaux         50         Good   \n",
              "23460                     India          Mormugao         50         Good   \n",
              "23461  United States of America       Westerville         71     Moderate   \n",
              "23462                  Malaysia            Marang         70     Moderate   \n",
              "\n",
              "       CO AQI Value CO AQI Category  Ozone AQI Value Ozone AQI Category  \\\n",
              "0                 1            Good               36               Good   \n",
              "1                 1            Good                5               Good   \n",
              "2                 1            Good               39               Good   \n",
              "3                 1            Good               34               Good   \n",
              "4                 0            Good               22               Good   \n",
              "...             ...             ...              ...                ...   \n",
              "23458             3            Good              154          Unhealthy   \n",
              "23459             1            Good               20               Good   \n",
              "23460             1            Good               22               Good   \n",
              "23461             1            Good               44               Good   \n",
              "23462             1            Good               38               Good   \n",
              "\n",
              "       NO2 AQI Value NO2 AQI Category  PM2.5 AQI Value PM2.5 AQI Category  \n",
              "0                  0             Good               51           Moderate  \n",
              "1                  1             Good               41               Good  \n",
              "2                  2             Good               66           Moderate  \n",
              "3                  0             Good               20               Good  \n",
              "4                  0             Good                6               Good  \n",
              "...              ...              ...              ...                ...  \n",
              "23458              2             Good              184          Unhealthy  \n",
              "23459              5             Good               50               Good  \n",
              "23460              1             Good               50               Good  \n",
              "23461              2             Good               71           Moderate  \n",
              "23462              0             Good               70           Moderate  \n",
              "\n",
              "[23463 rows x 12 columns]"
            ]
          },
          "execution_count": 7,
          "metadata": {},
          "output_type": "execute_result"
        }
      ],
      "source": [
        "df"
      ]
    },
    {
      "cell_type": "code",
      "execution_count": null,
      "metadata": {
        "colab": {
          "base_uri": "https://localhost:8080/"
        },
        "id": "84nLAJqEqSZm",
        "outputId": "60333d0f-45cb-4042-8386-975d4a5a73ce"
      },
      "outputs": [
        {
          "data": {
            "text/plain": [
              "Country                True\n",
              "City                   True\n",
              "AQI Value             False\n",
              "AQI Category          False\n",
              "CO AQI Value          False\n",
              "CO AQI Category       False\n",
              "Ozone AQI Value       False\n",
              "Ozone AQI Category    False\n",
              "NO2 AQI Value         False\n",
              "NO2 AQI Category      False\n",
              "PM2.5 AQI Value       False\n",
              "PM2.5 AQI Category    False\n",
              "dtype: bool"
            ]
          },
          "execution_count": 8,
          "metadata": {},
          "output_type": "execute_result"
        }
      ],
      "source": [
        "df.isnull().any()"
      ]
    },
    {
      "cell_type": "markdown",
      "metadata": {
        "id": "ZxAEhctogdjX"
      },
      "source": [
        "#Olah Data"
      ]
    },
    {
      "cell_type": "code",
      "execution_count": null,
      "metadata": {
        "colab": {
          "base_uri": "https://localhost:8080/",
          "height": 1000
        },
        "id": "kgr5QRgngfZl",
        "outputId": "168860c5-8f13-484c-e8a3-c6745eeefaeb"
      },
      "outputs": [
        {
          "name": "stdout",
          "output_type": "stream",
          "text": [
            "Looking in indexes: https://pypi.org/simple, https://us-python.pkg.dev/colab-wheels/public/simple/\n",
            "Collecting tensorflow==2.11.0\n",
            "  Downloading tensorflow-2.11.0-cp39-cp39-manylinux_2_17_x86_64.manylinux2014_x86_64.whl (588.3 MB)\n",
            "\u001b[2K     \u001b[90m━━━━━━━━━━━━━━━━━━━━━━━━━━━━━━━━━━━━━━━\u001b[0m \u001b[32m588.3/588.3 MB\u001b[0m \u001b[31m1.7 MB/s\u001b[0m eta \u001b[36m0:00:00\u001b[0m\n",
            "\u001b[?25hRequirement already satisfied: grpcio<2.0,>=1.24.3 in /usr/local/lib/python3.9/dist-packages (from tensorflow==2.11.0) (1.53.0)\n",
            "Requirement already satisfied: absl-py>=1.0.0 in /usr/local/lib/python3.9/dist-packages (from tensorflow==2.11.0) (1.4.0)\n",
            "Requirement already satisfied: numpy>=1.20 in /usr/local/lib/python3.9/dist-packages (from tensorflow==2.11.0) (1.22.4)\n",
            "Requirement already satisfied: tensorflow-io-gcs-filesystem>=0.23.1 in /usr/local/lib/python3.9/dist-packages (from tensorflow==2.11.0) (0.32.0)\n",
            "Collecting tensorflow-estimator<2.12,>=2.11.0\n",
            "  Downloading tensorflow_estimator-2.11.0-py2.py3-none-any.whl (439 kB)\n",
            "\u001b[2K     \u001b[90m━━━━━━━━━━━━━━━━━━━━━━━━━━━━━━━━━━━━━━\u001b[0m \u001b[32m439.2/439.2 KB\u001b[0m \u001b[31m30.6 MB/s\u001b[0m eta \u001b[36m0:00:00\u001b[0m\n",
            "\u001b[?25hRequirement already satisfied: six>=1.12.0 in /usr/local/lib/python3.9/dist-packages (from tensorflow==2.11.0) (1.16.0)\n",
            "Requirement already satisfied: packaging in /usr/local/lib/python3.9/dist-packages (from tensorflow==2.11.0) (23.0)\n",
            "Requirement already satisfied: setuptools in /usr/local/lib/python3.9/dist-packages (from tensorflow==2.11.0) (67.6.1)\n",
            "Requirement already satisfied: h5py>=2.9.0 in /usr/local/lib/python3.9/dist-packages (from tensorflow==2.11.0) (3.8.0)\n",
            "Requirement already satisfied: gast<=0.4.0,>=0.2.1 in /usr/local/lib/python3.9/dist-packages (from tensorflow==2.11.0) (0.4.0)\n",
            "Requirement already satisfied: libclang>=13.0.0 in /usr/local/lib/python3.9/dist-packages (from tensorflow==2.11.0) (16.0.0)\n",
            "Requirement already satisfied: termcolor>=1.1.0 in /usr/local/lib/python3.9/dist-packages (from tensorflow==2.11.0) (2.2.0)\n",
            "Collecting protobuf<3.20,>=3.9.2\n",
            "  Downloading protobuf-3.19.6-cp39-cp39-manylinux_2_17_x86_64.manylinux2014_x86_64.whl (1.1 MB)\n",
            "\u001b[2K     \u001b[90m━━━━━━━━━━━━━━━━━━━━━━━━━━━━━━━━━━━━━━━━\u001b[0m \u001b[32m1.1/1.1 MB\u001b[0m \u001b[31m20.8 MB/s\u001b[0m eta \u001b[36m0:00:00\u001b[0m\n",
            "\u001b[?25hRequirement already satisfied: typing-extensions>=3.6.6 in /usr/local/lib/python3.9/dist-packages (from tensorflow==2.11.0) (4.5.0)\n",
            "Requirement already satisfied: google-pasta>=0.1.1 in /usr/local/lib/python3.9/dist-packages (from tensorflow==2.11.0) (0.2.0)\n",
            "Requirement already satisfied: astunparse>=1.6.0 in /usr/local/lib/python3.9/dist-packages (from tensorflow==2.11.0) (1.6.3)\n",
            "Collecting tensorboard<2.12,>=2.11\n",
            "  Downloading tensorboard-2.11.2-py3-none-any.whl (6.0 MB)\n",
            "\u001b[2K     \u001b[90m━━━━━━━━━━━━━━━━━━━━━━━━━━━━━━━━━━━━━━━━\u001b[0m \u001b[32m6.0/6.0 MB\u001b[0m \u001b[31m32.2 MB/s\u001b[0m eta \u001b[36m0:00:00\u001b[0m\n",
            "\u001b[?25hRequirement already satisfied: wrapt>=1.11.0 in /usr/local/lib/python3.9/dist-packages (from tensorflow==2.11.0) (1.14.1)\n",
            "Requirement already satisfied: opt-einsum>=2.3.2 in /usr/local/lib/python3.9/dist-packages (from tensorflow==2.11.0) (3.3.0)\n",
            "Requirement already satisfied: flatbuffers>=2.0 in /usr/local/lib/python3.9/dist-packages (from tensorflow==2.11.0) (23.3.3)\n",
            "Collecting keras<2.12,>=2.11.0\n",
            "  Downloading keras-2.11.0-py2.py3-none-any.whl (1.7 MB)\n",
            "\u001b[2K     \u001b[90m━━━━━━━━━━━━━━━━━━━━━━━━━━━━━━━━━━━━━━━━\u001b[0m \u001b[32m1.7/1.7 MB\u001b[0m \u001b[31m42.9 MB/s\u001b[0m eta \u001b[36m0:00:00\u001b[0m\n",
            "\u001b[?25hRequirement already satisfied: wheel<1.0,>=0.23.0 in /usr/local/lib/python3.9/dist-packages (from astunparse>=1.6.0->tensorflow==2.11.0) (0.40.0)\n",
            "Requirement already satisfied: werkzeug>=1.0.1 in /usr/local/lib/python3.9/dist-packages (from tensorboard<2.12,>=2.11->tensorflow==2.11.0) (2.2.3)\n",
            "Requirement already satisfied: tensorboard-plugin-wit>=1.6.0 in /usr/local/lib/python3.9/dist-packages (from tensorboard<2.12,>=2.11->tensorflow==2.11.0) (1.8.1)\n",
            "Requirement already satisfied: markdown>=2.6.8 in /usr/local/lib/python3.9/dist-packages (from tensorboard<2.12,>=2.11->tensorflow==2.11.0) (3.4.3)\n",
            "Requirement already satisfied: requests<3,>=2.21.0 in /usr/local/lib/python3.9/dist-packages (from tensorboard<2.12,>=2.11->tensorflow==2.11.0) (2.27.1)\n",
            "Collecting tensorboard-data-server<0.7.0,>=0.6.0\n",
            "  Downloading tensorboard_data_server-0.6.1-py3-none-manylinux2010_x86_64.whl (4.9 MB)\n",
            "\u001b[2K     \u001b[90m━━━━━━━━━━━━━━━━━━━━━━━━━━━━━━━━━━━━━━━━\u001b[0m \u001b[32m4.9/4.9 MB\u001b[0m \u001b[31m78.1 MB/s\u001b[0m eta \u001b[36m0:00:00\u001b[0m\n",
            "\u001b[?25hRequirement already satisfied: google-auth<3,>=1.6.3 in /usr/local/lib/python3.9/dist-packages (from tensorboard<2.12,>=2.11->tensorflow==2.11.0) (2.17.1)\n",
            "Requirement already satisfied: google-auth-oauthlib<0.5,>=0.4.1 in /usr/local/lib/python3.9/dist-packages (from tensorboard<2.12,>=2.11->tensorflow==2.11.0) (0.4.6)\n",
            "Requirement already satisfied: rsa<5,>=3.1.4 in /usr/local/lib/python3.9/dist-packages (from google-auth<3,>=1.6.3->tensorboard<2.12,>=2.11->tensorflow==2.11.0) (4.9)\n",
            "Requirement already satisfied: pyasn1-modules>=0.2.1 in /usr/local/lib/python3.9/dist-packages (from google-auth<3,>=1.6.3->tensorboard<2.12,>=2.11->tensorflow==2.11.0) (0.2.8)\n",
            "Requirement already satisfied: cachetools<6.0,>=2.0.0 in /usr/local/lib/python3.9/dist-packages (from google-auth<3,>=1.6.3->tensorboard<2.12,>=2.11->tensorflow==2.11.0) (5.3.0)\n",
            "Requirement already satisfied: requests-oauthlib>=0.7.0 in /usr/local/lib/python3.9/dist-packages (from google-auth-oauthlib<0.5,>=0.4.1->tensorboard<2.12,>=2.11->tensorflow==2.11.0) (1.3.1)\n",
            "Requirement already satisfied: importlib-metadata>=4.4 in /usr/local/lib/python3.9/dist-packages (from markdown>=2.6.8->tensorboard<2.12,>=2.11->tensorflow==2.11.0) (6.1.0)\n",
            "Requirement already satisfied: certifi>=2017.4.17 in /usr/local/lib/python3.9/dist-packages (from requests<3,>=2.21.0->tensorboard<2.12,>=2.11->tensorflow==2.11.0) (2022.12.7)\n",
            "Requirement already satisfied: urllib3<1.27,>=1.21.1 in /usr/local/lib/python3.9/dist-packages (from requests<3,>=2.21.0->tensorboard<2.12,>=2.11->tensorflow==2.11.0) (1.26.15)\n",
            "Requirement already satisfied: idna<4,>=2.5 in /usr/local/lib/python3.9/dist-packages (from requests<3,>=2.21.0->tensorboard<2.12,>=2.11->tensorflow==2.11.0) (3.4)\n",
            "Requirement already satisfied: charset-normalizer~=2.0.0 in /usr/local/lib/python3.9/dist-packages (from requests<3,>=2.21.0->tensorboard<2.12,>=2.11->tensorflow==2.11.0) (2.0.12)\n",
            "Requirement already satisfied: MarkupSafe>=2.1.1 in /usr/local/lib/python3.9/dist-packages (from werkzeug>=1.0.1->tensorboard<2.12,>=2.11->tensorflow==2.11.0) (2.1.2)\n",
            "Requirement already satisfied: zipp>=0.5 in /usr/local/lib/python3.9/dist-packages (from importlib-metadata>=4.4->markdown>=2.6.8->tensorboard<2.12,>=2.11->tensorflow==2.11.0) (3.15.0)\n",
            "Requirement already satisfied: pyasn1<0.5.0,>=0.4.6 in /usr/local/lib/python3.9/dist-packages (from pyasn1-modules>=0.2.1->google-auth<3,>=1.6.3->tensorboard<2.12,>=2.11->tensorflow==2.11.0) (0.4.8)\n",
            "Requirement already satisfied: oauthlib>=3.0.0 in /usr/local/lib/python3.9/dist-packages (from requests-oauthlib>=0.7.0->google-auth-oauthlib<0.5,>=0.4.1->tensorboard<2.12,>=2.11->tensorflow==2.11.0) (3.2.2)\n",
            "Installing collected packages: tensorflow-estimator, tensorboard-data-server, protobuf, keras, tensorboard, tensorflow\n",
            "  Attempting uninstall: tensorflow-estimator\n",
            "    Found existing installation: tensorflow-estimator 2.12.0\n",
            "    Uninstalling tensorflow-estimator-2.12.0:\n",
            "      Successfully uninstalled tensorflow-estimator-2.12.0\n",
            "  Attempting uninstall: tensorboard-data-server\n",
            "    Found existing installation: tensorboard-data-server 0.7.0\n",
            "    Uninstalling tensorboard-data-server-0.7.0:\n",
            "      Successfully uninstalled tensorboard-data-server-0.7.0\n",
            "  Attempting uninstall: protobuf\n",
            "    Found existing installation: protobuf 3.20.3\n",
            "    Uninstalling protobuf-3.20.3:\n",
            "      Successfully uninstalled protobuf-3.20.3\n",
            "  Attempting uninstall: keras\n",
            "    Found existing installation: keras 2.12.0\n",
            "    Uninstalling keras-2.12.0:\n",
            "      Successfully uninstalled keras-2.12.0\n",
            "  Attempting uninstall: tensorboard\n",
            "    Found existing installation: tensorboard 2.12.0\n",
            "    Uninstalling tensorboard-2.12.0:\n",
            "      Successfully uninstalled tensorboard-2.12.0\n",
            "  Attempting uninstall: tensorflow\n",
            "    Found existing installation: tensorflow 2.12.0\n",
            "    Uninstalling tensorflow-2.12.0:\n",
            "      Successfully uninstalled tensorflow-2.12.0\n",
            "Successfully installed keras-2.11.0 protobuf-3.19.6 tensorboard-2.11.2 tensorboard-data-server-0.6.1 tensorflow-2.11.0 tensorflow-estimator-2.11.0\n"
          ]
        },
        {
          "data": {
            "application/vnd.colab-display-data+json": {
              "pip_warning": {
                "packages": [
                  "google"
                ]
              }
            }
          },
          "metadata": {},
          "output_type": "display_data"
        }
      ],
      "source": [
        "# Install Tensorflow\n",
        "!pip install tensorflow==2.11.0"
      ]
    },
    {
      "cell_type": "code",
      "execution_count": null,
      "metadata": {
        "id": "kk0mX23Agjh_"
      },
      "outputs": [],
      "source": [
        "import tensorflow as tf\n",
        "import numpy as np\n",
        "import seaborn as sns\n",
        "from sklearn.model_selection import train_test_split\n",
        "from sklearn.metrics import confusion_matrix\n",
        "from sklearn.metrics import classification_report\n",
        "from sklearn.preprocessing import LabelEncoder"
      ]
    },
    {
      "cell_type": "code",
      "execution_count": null,
      "metadata": {
        "colab": {
          "base_uri": "https://localhost:8080/"
        },
        "id": "G7IPeepvg_YN",
        "outputId": "6d663ae1-0847-4329-9631-eabda5448875"
      },
      "outputs": [
        {
          "name": "stdout",
          "output_type": "stream",
          "text": [
            "2.11.0\n"
          ]
        }
      ],
      "source": [
        "print(tf.__version__)"
      ]
    },
    {
      "cell_type": "code",
      "execution_count": null,
      "metadata": {
        "colab": {
          "base_uri": "https://localhost:8080/"
        },
        "id": "hRi59LY8hHsp",
        "outputId": "6c5ad5f6-937d-4161-8049-0eadb5ec4f13"
      },
      "outputs": [
        {
          "name": "stdout",
          "output_type": "stream",
          "text": [
            "<class 'pandas.core.frame.DataFrame'>\n",
            "RangeIndex: 23463 entries, 0 to 23462\n",
            "Data columns (total 12 columns):\n",
            " #   Column              Non-Null Count  Dtype \n",
            "---  ------              --------------  ----- \n",
            " 0   Country             23036 non-null  object\n",
            " 1   City                23462 non-null  object\n",
            " 2   AQI Value           23463 non-null  int64 \n",
            " 3   AQI Category        23463 non-null  object\n",
            " 4   CO AQI Value        23463 non-null  int64 \n",
            " 5   CO AQI Category     23463 non-null  object\n",
            " 6   Ozone AQI Value     23463 non-null  int64 \n",
            " 7   Ozone AQI Category  23463 non-null  object\n",
            " 8   NO2 AQI Value       23463 non-null  int64 \n",
            " 9   NO2 AQI Category    23463 non-null  object\n",
            " 10  PM2.5 AQI Value     23463 non-null  int64 \n",
            " 11  PM2.5 AQI Category  23463 non-null  object\n",
            "dtypes: int64(5), object(7)\n",
            "memory usage: 2.1+ MB\n"
          ]
        }
      ],
      "source": [
        "df.info()"
      ]
    },
    {
      "cell_type": "code",
      "execution_count": null,
      "metadata": {
        "id": "7TiIWFAc2ual"
      },
      "outputs": [],
      "source": [
        "label_encoder = LabelEncoder()\n",
        "df['label'] = label_encoder.fit_transform(df['AQI Category'])"
      ]
    },
    {
      "cell_type": "code",
      "execution_count": null,
      "metadata": {
        "colab": {
          "base_uri": "https://localhost:8080/",
          "height": 519
        },
        "id": "eiWooZxw3DLU",
        "outputId": "eb05d3b8-2f76-4784-c2e4-ed5555ea7597"
      },
      "outputs": [
        {
          "data": {
            "text/html": [
              "\n",
              "  <div id=\"df-c1127084-d782-40e1-9903-dd982ba46712\">\n",
              "    <div class=\"colab-df-container\">\n",
              "      <div>\n",
              "<style scoped>\n",
              "    .dataframe tbody tr th:only-of-type {\n",
              "        vertical-align: middle;\n",
              "    }\n",
              "\n",
              "    .dataframe tbody tr th {\n",
              "        vertical-align: top;\n",
              "    }\n",
              "\n",
              "    .dataframe thead th {\n",
              "        text-align: right;\n",
              "    }\n",
              "</style>\n",
              "<table border=\"1\" class=\"dataframe\">\n",
              "  <thead>\n",
              "    <tr style=\"text-align: right;\">\n",
              "      <th></th>\n",
              "      <th>Country</th>\n",
              "      <th>City</th>\n",
              "      <th>AQI Value</th>\n",
              "      <th>AQI Category</th>\n",
              "      <th>CO AQI Value</th>\n",
              "      <th>CO AQI Category</th>\n",
              "      <th>Ozone AQI Value</th>\n",
              "      <th>Ozone AQI Category</th>\n",
              "      <th>NO2 AQI Value</th>\n",
              "      <th>NO2 AQI Category</th>\n",
              "      <th>PM2.5 AQI Value</th>\n",
              "      <th>PM2.5 AQI Category</th>\n",
              "      <th>label</th>\n",
              "    </tr>\n",
              "  </thead>\n",
              "  <tbody>\n",
              "    <tr>\n",
              "      <th>0</th>\n",
              "      <td>Russian Federation</td>\n",
              "      <td>Praskoveya</td>\n",
              "      <td>51</td>\n",
              "      <td>Moderate</td>\n",
              "      <td>1</td>\n",
              "      <td>Good</td>\n",
              "      <td>36</td>\n",
              "      <td>Good</td>\n",
              "      <td>0</td>\n",
              "      <td>Good</td>\n",
              "      <td>51</td>\n",
              "      <td>Moderate</td>\n",
              "      <td>2</td>\n",
              "    </tr>\n",
              "    <tr>\n",
              "      <th>1</th>\n",
              "      <td>Brazil</td>\n",
              "      <td>Presidente Dutra</td>\n",
              "      <td>41</td>\n",
              "      <td>Good</td>\n",
              "      <td>1</td>\n",
              "      <td>Good</td>\n",
              "      <td>5</td>\n",
              "      <td>Good</td>\n",
              "      <td>1</td>\n",
              "      <td>Good</td>\n",
              "      <td>41</td>\n",
              "      <td>Good</td>\n",
              "      <td>0</td>\n",
              "    </tr>\n",
              "    <tr>\n",
              "      <th>2</th>\n",
              "      <td>Italy</td>\n",
              "      <td>Priolo Gargallo</td>\n",
              "      <td>66</td>\n",
              "      <td>Moderate</td>\n",
              "      <td>1</td>\n",
              "      <td>Good</td>\n",
              "      <td>39</td>\n",
              "      <td>Good</td>\n",
              "      <td>2</td>\n",
              "      <td>Good</td>\n",
              "      <td>66</td>\n",
              "      <td>Moderate</td>\n",
              "      <td>2</td>\n",
              "    </tr>\n",
              "    <tr>\n",
              "      <th>3</th>\n",
              "      <td>Poland</td>\n",
              "      <td>Przasnysz</td>\n",
              "      <td>34</td>\n",
              "      <td>Good</td>\n",
              "      <td>1</td>\n",
              "      <td>Good</td>\n",
              "      <td>34</td>\n",
              "      <td>Good</td>\n",
              "      <td>0</td>\n",
              "      <td>Good</td>\n",
              "      <td>20</td>\n",
              "      <td>Good</td>\n",
              "      <td>0</td>\n",
              "    </tr>\n",
              "    <tr>\n",
              "      <th>4</th>\n",
              "      <td>France</td>\n",
              "      <td>Punaauia</td>\n",
              "      <td>22</td>\n",
              "      <td>Good</td>\n",
              "      <td>0</td>\n",
              "      <td>Good</td>\n",
              "      <td>22</td>\n",
              "      <td>Good</td>\n",
              "      <td>0</td>\n",
              "      <td>Good</td>\n",
              "      <td>6</td>\n",
              "      <td>Good</td>\n",
              "      <td>0</td>\n",
              "    </tr>\n",
              "    <tr>\n",
              "      <th>...</th>\n",
              "      <td>...</td>\n",
              "      <td>...</td>\n",
              "      <td>...</td>\n",
              "      <td>...</td>\n",
              "      <td>...</td>\n",
              "      <td>...</td>\n",
              "      <td>...</td>\n",
              "      <td>...</td>\n",
              "      <td>...</td>\n",
              "      <td>...</td>\n",
              "      <td>...</td>\n",
              "      <td>...</td>\n",
              "      <td>...</td>\n",
              "    </tr>\n",
              "    <tr>\n",
              "      <th>23458</th>\n",
              "      <td>India</td>\n",
              "      <td>Gursahaiganj</td>\n",
              "      <td>184</td>\n",
              "      <td>Unhealthy</td>\n",
              "      <td>3</td>\n",
              "      <td>Good</td>\n",
              "      <td>154</td>\n",
              "      <td>Unhealthy</td>\n",
              "      <td>2</td>\n",
              "      <td>Good</td>\n",
              "      <td>184</td>\n",
              "      <td>Unhealthy</td>\n",
              "      <td>3</td>\n",
              "    </tr>\n",
              "    <tr>\n",
              "      <th>23459</th>\n",
              "      <td>France</td>\n",
              "      <td>Sceaux</td>\n",
              "      <td>50</td>\n",
              "      <td>Good</td>\n",
              "      <td>1</td>\n",
              "      <td>Good</td>\n",
              "      <td>20</td>\n",
              "      <td>Good</td>\n",
              "      <td>5</td>\n",
              "      <td>Good</td>\n",
              "      <td>50</td>\n",
              "      <td>Good</td>\n",
              "      <td>0</td>\n",
              "    </tr>\n",
              "    <tr>\n",
              "      <th>23460</th>\n",
              "      <td>India</td>\n",
              "      <td>Mormugao</td>\n",
              "      <td>50</td>\n",
              "      <td>Good</td>\n",
              "      <td>1</td>\n",
              "      <td>Good</td>\n",
              "      <td>22</td>\n",
              "      <td>Good</td>\n",
              "      <td>1</td>\n",
              "      <td>Good</td>\n",
              "      <td>50</td>\n",
              "      <td>Good</td>\n",
              "      <td>0</td>\n",
              "    </tr>\n",
              "    <tr>\n",
              "      <th>23461</th>\n",
              "      <td>United States of America</td>\n",
              "      <td>Westerville</td>\n",
              "      <td>71</td>\n",
              "      <td>Moderate</td>\n",
              "      <td>1</td>\n",
              "      <td>Good</td>\n",
              "      <td>44</td>\n",
              "      <td>Good</td>\n",
              "      <td>2</td>\n",
              "      <td>Good</td>\n",
              "      <td>71</td>\n",
              "      <td>Moderate</td>\n",
              "      <td>2</td>\n",
              "    </tr>\n",
              "    <tr>\n",
              "      <th>23462</th>\n",
              "      <td>Malaysia</td>\n",
              "      <td>Marang</td>\n",
              "      <td>70</td>\n",
              "      <td>Moderate</td>\n",
              "      <td>1</td>\n",
              "      <td>Good</td>\n",
              "      <td>38</td>\n",
              "      <td>Good</td>\n",
              "      <td>0</td>\n",
              "      <td>Good</td>\n",
              "      <td>70</td>\n",
              "      <td>Moderate</td>\n",
              "      <td>2</td>\n",
              "    </tr>\n",
              "  </tbody>\n",
              "</table>\n",
              "<p>23463 rows × 13 columns</p>\n",
              "</div>\n",
              "      <button class=\"colab-df-convert\" onclick=\"convertToInteractive('df-c1127084-d782-40e1-9903-dd982ba46712')\"\n",
              "              title=\"Convert this dataframe to an interactive table.\"\n",
              "              style=\"display:none;\">\n",
              "        \n",
              "  <svg xmlns=\"http://www.w3.org/2000/svg\" height=\"24px\"viewBox=\"0 0 24 24\"\n",
              "       width=\"24px\">\n",
              "    <path d=\"M0 0h24v24H0V0z\" fill=\"none\"/>\n",
              "    <path d=\"M18.56 5.44l.94 2.06.94-2.06 2.06-.94-2.06-.94-.94-2.06-.94 2.06-2.06.94zm-11 1L8.5 8.5l.94-2.06 2.06-.94-2.06-.94L8.5 2.5l-.94 2.06-2.06.94zm10 10l.94 2.06.94-2.06 2.06-.94-2.06-.94-.94-2.06-.94 2.06-2.06.94z\"/><path d=\"M17.41 7.96l-1.37-1.37c-.4-.4-.92-.59-1.43-.59-.52 0-1.04.2-1.43.59L10.3 9.45l-7.72 7.72c-.78.78-.78 2.05 0 2.83L4 21.41c.39.39.9.59 1.41.59.51 0 1.02-.2 1.41-.59l7.78-7.78 2.81-2.81c.8-.78.8-2.07 0-2.86zM5.41 20L4 18.59l7.72-7.72 1.47 1.35L5.41 20z\"/>\n",
              "  </svg>\n",
              "      </button>\n",
              "      \n",
              "  <style>\n",
              "    .colab-df-container {\n",
              "      display:flex;\n",
              "      flex-wrap:wrap;\n",
              "      gap: 12px;\n",
              "    }\n",
              "\n",
              "    .colab-df-convert {\n",
              "      background-color: #E8F0FE;\n",
              "      border: none;\n",
              "      border-radius: 50%;\n",
              "      cursor: pointer;\n",
              "      display: none;\n",
              "      fill: #1967D2;\n",
              "      height: 32px;\n",
              "      padding: 0 0 0 0;\n",
              "      width: 32px;\n",
              "    }\n",
              "\n",
              "    .colab-df-convert:hover {\n",
              "      background-color: #E2EBFA;\n",
              "      box-shadow: 0px 1px 2px rgba(60, 64, 67, 0.3), 0px 1px 3px 1px rgba(60, 64, 67, 0.15);\n",
              "      fill: #174EA6;\n",
              "    }\n",
              "\n",
              "    [theme=dark] .colab-df-convert {\n",
              "      background-color: #3B4455;\n",
              "      fill: #D2E3FC;\n",
              "    }\n",
              "\n",
              "    [theme=dark] .colab-df-convert:hover {\n",
              "      background-color: #434B5C;\n",
              "      box-shadow: 0px 1px 3px 1px rgba(0, 0, 0, 0.15);\n",
              "      filter: drop-shadow(0px 1px 2px rgba(0, 0, 0, 0.3));\n",
              "      fill: #FFFFFF;\n",
              "    }\n",
              "  </style>\n",
              "\n",
              "      <script>\n",
              "        const buttonEl =\n",
              "          document.querySelector('#df-c1127084-d782-40e1-9903-dd982ba46712 button.colab-df-convert');\n",
              "        buttonEl.style.display =\n",
              "          google.colab.kernel.accessAllowed ? 'block' : 'none';\n",
              "\n",
              "        async function convertToInteractive(key) {\n",
              "          const element = document.querySelector('#df-c1127084-d782-40e1-9903-dd982ba46712');\n",
              "          const dataTable =\n",
              "            await google.colab.kernel.invokeFunction('convertToInteractive',\n",
              "                                                     [key], {});\n",
              "          if (!dataTable) return;\n",
              "\n",
              "          const docLinkHtml = 'Like what you see? Visit the ' +\n",
              "            '<a target=\"_blank\" href=https://colab.research.google.com/notebooks/data_table.ipynb>data table notebook</a>'\n",
              "            + ' to learn more about interactive tables.';\n",
              "          element.innerHTML = '';\n",
              "          dataTable['output_type'] = 'display_data';\n",
              "          await google.colab.output.renderOutput(dataTable, element);\n",
              "          const docLink = document.createElement('div');\n",
              "          docLink.innerHTML = docLinkHtml;\n",
              "          element.appendChild(docLink);\n",
              "        }\n",
              "      </script>\n",
              "    </div>\n",
              "  </div>\n",
              "  "
            ],
            "text/plain": [
              "                        Country              City  AQI Value AQI Category  \\\n",
              "0            Russian Federation        Praskoveya         51     Moderate   \n",
              "1                        Brazil  Presidente Dutra         41         Good   \n",
              "2                         Italy   Priolo Gargallo         66     Moderate   \n",
              "3                        Poland         Przasnysz         34         Good   \n",
              "4                        France          Punaauia         22         Good   \n",
              "...                         ...               ...        ...          ...   \n",
              "23458                     India      Gursahaiganj        184    Unhealthy   \n",
              "23459                    France            Sceaux         50         Good   \n",
              "23460                     India          Mormugao         50         Good   \n",
              "23461  United States of America       Westerville         71     Moderate   \n",
              "23462                  Malaysia            Marang         70     Moderate   \n",
              "\n",
              "       CO AQI Value CO AQI Category  Ozone AQI Value Ozone AQI Category  \\\n",
              "0                 1            Good               36               Good   \n",
              "1                 1            Good                5               Good   \n",
              "2                 1            Good               39               Good   \n",
              "3                 1            Good               34               Good   \n",
              "4                 0            Good               22               Good   \n",
              "...             ...             ...              ...                ...   \n",
              "23458             3            Good              154          Unhealthy   \n",
              "23459             1            Good               20               Good   \n",
              "23460             1            Good               22               Good   \n",
              "23461             1            Good               44               Good   \n",
              "23462             1            Good               38               Good   \n",
              "\n",
              "       NO2 AQI Value NO2 AQI Category  PM2.5 AQI Value PM2.5 AQI Category  \\\n",
              "0                  0             Good               51           Moderate   \n",
              "1                  1             Good               41               Good   \n",
              "2                  2             Good               66           Moderate   \n",
              "3                  0             Good               20               Good   \n",
              "4                  0             Good                6               Good   \n",
              "...              ...              ...              ...                ...   \n",
              "23458              2             Good              184          Unhealthy   \n",
              "23459              5             Good               50               Good   \n",
              "23460              1             Good               50               Good   \n",
              "23461              2             Good               71           Moderate   \n",
              "23462              0             Good               70           Moderate   \n",
              "\n",
              "       label  \n",
              "0          2  \n",
              "1          0  \n",
              "2          2  \n",
              "3          0  \n",
              "4          0  \n",
              "...      ...  \n",
              "23458      3  \n",
              "23459      0  \n",
              "23460      0  \n",
              "23461      2  \n",
              "23462      2  \n",
              "\n",
              "[23463 rows x 13 columns]"
            ]
          },
          "execution_count": 14,
          "metadata": {},
          "output_type": "execute_result"
        }
      ],
      "source": [
        "df"
      ]
    },
    {
      "cell_type": "code",
      "execution_count": null,
      "metadata": {
        "colab": {
          "base_uri": "https://localhost:8080/"
        },
        "id": "v9MZS_wphTEC",
        "outputId": "ed876300-91c1-472d-b3ea-b3d6fa6f3d9a"
      },
      "outputs": [
        {
          "data": {
            "text/plain": [
              "0         51\n",
              "1         41\n",
              "2         66\n",
              "3         34\n",
              "4         22\n",
              "        ... \n",
              "23458    184\n",
              "23459     50\n",
              "23460     50\n",
              "23461     71\n",
              "23462     70\n",
              "Name: AQI Value, Length: 23463, dtype: int64"
            ]
          },
          "execution_count": 15,
          "metadata": {},
          "output_type": "execute_result"
        }
      ],
      "source": [
        "# Pemilihan Fitur\n",
        "X = df.iloc[:, 2].values\n",
        "df.iloc[:, 2]"
      ]
    },
    {
      "cell_type": "code",
      "execution_count": null,
      "metadata": {
        "colab": {
          "base_uri": "https://localhost:8080/"
        },
        "id": "H8ZQ4NM9h4Yv",
        "outputId": "c5b91960-cab8-464c-8099-e703b1d6531f"
      },
      "outputs": [
        {
          "data": {
            "text/plain": [
              "0        2\n",
              "1        0\n",
              "2        2\n",
              "3        0\n",
              "4        0\n",
              "        ..\n",
              "23458    3\n",
              "23459    0\n",
              "23460    0\n",
              "23461    2\n",
              "23462    2\n",
              "Name: label, Length: 23463, dtype: int64"
            ]
          },
          "execution_count": 16,
          "metadata": {},
          "output_type": "execute_result"
        }
      ],
      "source": [
        "y = df.iloc[:, -1].values\n",
        "df.iloc[:, -1]"
      ]
    },
    {
      "cell_type": "code",
      "execution_count": null,
      "metadata": {
        "id": "FI_KBkBa31p-"
      },
      "outputs": [],
      "source": [
        "# Split data\n",
        "X_train, X_test, y_train, y_test = train_test_split(X, y, test_size=0.2, random_state=0) "
      ]
    },
    {
      "cell_type": "markdown",
      "metadata": {
        "id": "kXmls8f42EiK"
      },
      "source": [
        "# MLP"
      ]
    },
    {
      "cell_type": "code",
      "execution_count": null,
      "metadata": {
        "colab": {
          "base_uri": "https://localhost:8080/"
        },
        "id": "_k5pxLpc2F2Q",
        "outputId": "a343cd85-708c-4436-fc14-eb015c690cfc"
      },
      "outputs": [
        {
          "name": "stdout",
          "output_type": "stream",
          "text": [
            "Epoch 1/20\n",
            "587/587 [==============================] - 3s 3ms/step - loss: 2.0425 - accuracy: 0.4084\n",
            "Epoch 2/20\n",
            "587/587 [==============================] - 2s 3ms/step - loss: 1.3237 - accuracy: 0.5154\n",
            "Epoch 3/20\n",
            "587/587 [==============================] - 2s 4ms/step - loss: 1.1812 - accuracy: 0.5877\n",
            "Epoch 4/20\n",
            "587/587 [==============================] - 2s 4ms/step - loss: 1.0552 - accuracy: 0.6605\n",
            "Epoch 5/20\n",
            "587/587 [==============================] - 1s 3ms/step - loss: 0.8690 - accuracy: 0.7444\n",
            "Epoch 6/20\n",
            "587/587 [==============================] - 1s 2ms/step - loss: 0.5571 - accuracy: 0.8215\n",
            "Epoch 7/20\n",
            "587/587 [==============================] - 1s 2ms/step - loss: 0.3902 - accuracy: 0.8566\n",
            "Epoch 8/20\n",
            "587/587 [==============================] - 1s 2ms/step - loss: 0.3117 - accuracy: 0.8869\n",
            "Epoch 9/20\n",
            "587/587 [==============================] - 1s 2ms/step - loss: 0.2824 - accuracy: 0.8977\n",
            "Epoch 10/20\n",
            "587/587 [==============================] - 1s 2ms/step - loss: 0.2686 - accuracy: 0.8990\n",
            "Epoch 11/20\n",
            "587/587 [==============================] - 1s 2ms/step - loss: 0.2486 - accuracy: 0.9071\n",
            "Epoch 12/20\n",
            "587/587 [==============================] - 1s 2ms/step - loss: 0.2372 - accuracy: 0.9110\n",
            "Epoch 13/20\n",
            "587/587 [==============================] - 2s 3ms/step - loss: 0.2263 - accuracy: 0.9136\n",
            "Epoch 14/20\n",
            "587/587 [==============================] - 2s 4ms/step - loss: 0.2194 - accuracy: 0.9161\n",
            "Epoch 15/20\n",
            "587/587 [==============================] - 2s 3ms/step - loss: 0.2080 - accuracy: 0.9208\n",
            "Epoch 16/20\n",
            "587/587 [==============================] - 1s 2ms/step - loss: 0.2005 - accuracy: 0.9230\n",
            "Epoch 17/20\n",
            "587/587 [==============================] - 1s 2ms/step - loss: 0.1843 - accuracy: 0.9292\n",
            "Epoch 18/20\n",
            "587/587 [==============================] - 1s 2ms/step - loss: 0.1888 - accuracy: 0.9258\n",
            "Epoch 19/20\n",
            "587/587 [==============================] - 1s 2ms/step - loss: 0.1872 - accuracy: 0.9282\n",
            "Epoch 20/20\n",
            "587/587 [==============================] - 1s 2ms/step - loss: 0.1809 - accuracy: 0.9296\n"
          ]
        }
      ],
      "source": [
        "model = tf.keras.models.Sequential([\n",
        "    tf.keras.layers.Dense(128, input_shape=[1]),\n",
        "    tf.keras.layers.Dropout(0.2),\n",
        "    tf.keras.layers.Dense(64, activation='relu'),\n",
        "    tf.keras.layers.Dropout(0.2),\n",
        "    tf.keras.layers.Dense(16, activation=\"softmax\")\n",
        "])\n",
        "\n",
        "model.compile(optimizer='adam', \n",
        "              loss='sparse_categorical_crossentropy', \n",
        "              metrics=['accuracy'])\n",
        "\n",
        "history = model.fit(X_train, \n",
        "                    y_train, \n",
        "                    epochs=20,\n",
        "                    )"
      ]
    },
    {
      "cell_type": "code",
      "execution_count": null,
      "metadata": {
        "colab": {
          "base_uri": "https://localhost:8080/"
        },
        "id": "md7dFudmdetl",
        "outputId": "3f16ba4c-239e-4ff2-c3b5-5e7461ccee7f"
      },
      "outputs": [
        {
          "name": "stdout",
          "output_type": "stream",
          "text": [
            "Input Shape: (None, 64)\n"
          ]
        }
      ],
      "source": [
        "print(\"Input Shape:\", model.layers[4].input_shape)"
      ]
    },
    {
      "cell_type": "code",
      "execution_count": null,
      "metadata": {
        "colab": {
          "base_uri": "https://localhost:8080/"
        },
        "id": "N6uphZlV3_0Y",
        "outputId": "13438f27-81f3-4f99-843b-8cf20c76acc2"
      },
      "outputs": [
        {
          "name": "stdout",
          "output_type": "stream",
          "text": [
            "Model: \"sequential\"\n",
            "_________________________________________________________________\n",
            " Layer (type)                Output Shape              Param #   \n",
            "=================================================================\n",
            " dense (Dense)               (None, 128)               256       \n",
            "                                                                 \n",
            " dropout (Dropout)           (None, 128)               0         \n",
            "                                                                 \n",
            " dense_1 (Dense)             (None, 64)                8256      \n",
            "                                                                 \n",
            " dropout_1 (Dropout)         (None, 64)                0         \n",
            "                                                                 \n",
            " dense_2 (Dense)             (None, 16)                1040      \n",
            "                                                                 \n",
            "=================================================================\n",
            "Total params: 9,552\n",
            "Trainable params: 9,552\n",
            "Non-trainable params: 0\n",
            "_________________________________________________________________\n",
            "74/74 [==============================] - 0s 2ms/step - loss: 0.1326 - accuracy: 0.9614\n"
          ]
        },
        {
          "data": {
            "text/plain": [
              "[0.13260826468467712, 0.9614319205284119]"
            ]
          },
          "execution_count": 35,
          "metadata": {},
          "output_type": "execute_result"
        }
      ],
      "source": [
        "model.summary()\n",
        "model.evaluate(X_test, y_test, batch_size=64)"
      ]
    },
    {
      "cell_type": "code",
      "execution_count": null,
      "metadata": {
        "colab": {
          "base_uri": "https://localhost:8080/"
        },
        "id": "ZKh003qS4Ci5",
        "outputId": "5e5e74b4-1c70-490e-86d7-1c0bce00cfc9"
      },
      "outputs": [
        {
          "name": "stdout",
          "output_type": "stream",
          "text": [
            "1/1 [==============================] - 0s 47ms/step\n",
            "[[0.0000000e+00 9.4138885e-01 3.7854640e-22 5.6095265e-02 1.9647965e-05\n",
            "  2.4962381e-03 0.0000000e+00 0.0000000e+00 0.0000000e+00 0.0000000e+00\n",
            "  0.0000000e+00 0.0000000e+00 0.0000000e+00 0.0000000e+00 0.0000000e+00\n",
            "  0.0000000e+00]]\n"
          ]
        }
      ],
      "source": [
        "print(model.predict([[500]]))"
      ]
    },
    {
      "cell_type": "markdown",
      "metadata": {
        "id": "A6iF51UkUGs6"
      },
      "source": [
        "#evaluasi model"
      ]
    }
  ],
  "metadata": {
    "colab": {
      "provenance": []
    },
    "kernelspec": {
      "display_name": "Python 3",
      "name": "python3"
    },
    "language_info": {
      "name": "python"
    }
  },
  "nbformat": 4,
  "nbformat_minor": 0
}
